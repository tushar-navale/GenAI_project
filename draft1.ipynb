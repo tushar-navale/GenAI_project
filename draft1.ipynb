{
 "cells": [
  {
   "cell_type": "code",
   "execution_count": 1,
   "metadata": {},
   "outputs": [
    {
     "name": "stdout",
     "output_type": "stream",
     "text": [
      "Requirement already satisfied: datasets in c:\\users\\tushar\\appdata\\local\\programs\\python\\python312\\lib\\site-packages (3.3.0)\n",
      "Requirement already satisfied: rank-bm25 in c:\\users\\tushar\\appdata\\local\\programs\\python\\python312\\lib\\site-packages (0.2.2)\n",
      "Requirement already satisfied: torch in c:\\users\\tushar\\appdata\\local\\programs\\python\\python312\\lib\\site-packages (2.3.0+cu121)\n",
      "Requirement already satisfied: torchaudio in c:\\users\\tushar\\appdata\\local\\programs\\python\\python312\\lib\\site-packages (2.3.0+cu121)\n",
      "Requirement already satisfied: transformers in c:\\users\\tushar\\appdata\\local\\programs\\python\\python312\\lib\\site-packages (4.48.3)\n",
      "Requirement already satisfied: diffusers in c:\\users\\tushar\\appdata\\local\\programs\\python\\python312\\lib\\site-packages (0.32.2)\n"
     ]
    },
    {
     "name": "stderr",
     "output_type": "stream",
     "text": [
      "WARNING: Ignoring invalid distribution ~orch (C:\\Users\\Tushar\\AppData\\Local\\Programs\\Python\\Python312\\Lib\\site-packages)\n",
      "ERROR: Could not find a version that satisfies the requirement google-colab (from versions: none)\n",
      "ERROR: No matching distribution found for google-colab\n"
     ]
    }
   ],
   "source": [
    "!pip install datasets rank-bm25 torch torchaudio transformers diffusers google-colab"
   ]
  },
  {
   "cell_type": "code",
   "execution_count": 2,
   "metadata": {},
   "outputs": [],
   "source": [
    "import torch\n",
    "import torchaudio\n",
    "from transformers import T5Tokenizer, T5ForConditionalGeneration\n",
    "from sklearn.feature_extraction.text import TfidfVectorizer\n",
    "from rank_bm25 import BM25Okapi\n",
    "import numpy as np\n",
    "from diffusers import AudioLDMPipeline\n",
    "import warnings\n",
    "warnings.filterwarnings('ignore')\n",
    "\n",
    "\n"
   ]
  },
  {
   "cell_type": "code",
   "execution_count": 3,
   "metadata": {},
   "outputs": [
    {
     "name": "stdout",
     "output_type": "stream",
     "text": [
      "Using device: cuda\n"
     ]
    }
   ],
   "source": [
    "# Ensure we are using a GPU if available\n",
    "device = \"cuda\" if torch.cuda.is_available() else \"cpu\"\n",
    "print(\"Using device:\", device)\n"
   ]
  },
  {
   "cell_type": "code",
   "execution_count": 4,
   "metadata": {},
   "outputs": [],
   "source": [
    "def load_and_preprocess_data():\n",
    "    try:\n",
    "        with open(\"train.txt\", \"r\", encoding='utf-8') as file:\n",
    "            stories = file.read().strip().split('\\n')\n",
    "        tokenized_stories = [story.lower().split() for story in stories]\n",
    "        return stories, tokenized_stories\n",
    "    except FileNotFoundError:\n",
    "        print(\"Error: train.txt not found. Please ensure the file exists in the current directory.\")\n",
    "        return [], []\n",
    "\n",
    "# Load and preprocess data\n",
    "stories, tokenized_stories = load_and_preprocess_data()\n",
    "if not stories:\n",
    "    raise Exception(\"No stories loaded. Cannot proceed.\")\n",
    "\n",
    "# BM25 Retrieval\n"
   ]
  },
  {
   "cell_type": "code",
   "execution_count": 17,
   "metadata": {},
   "outputs": [
    {
     "name": "stdout",
     "output_type": "stream",
     "text": [
      "I went to visit family in the mountains last week. They have a lot of wildlife near their homes. I was a little scared to go outside while I was there. My friend assured me it was safe. I was still scared.\n"
     ]
    }
   ],
   "source": [
    "\n",
    "from diffusers import AudioLDMPipeline\n",
    "\n",
    "bm25 = BM25Okapi(tokenized_stories)\n",
    "query = \"A scared felling of getting lost in mountains\"\n",
    "retrieved_texts = bm25.get_top_n(query.lower().split(), stories, n=3)\n",
    "print(retrieved_texts[0])\n",
    "# Load T5 model with error handling\n",
    "try:\n",
    "    tokenizer = T5Tokenizer.from_pretrained(\"t5-small\")\n",
    "    model = T5ForConditionalGeneration.from_pretrained(\"t5-small\").to(device)\n",
    "except Exception as e:\n",
    "    print(f\"Error loading T5 model: {str(e)}\")\n",
    "    raise\n",
    "\n"
   ]
  },
  {
   "cell_type": "code",
   "execution_count": 6,
   "metadata": {},
   "outputs": [],
   "source": [
    "def generate_music_features(text, tokenizer, model):\n",
    "    try:\n",
    "        input_ids = tokenizer(text, return_tensors=\"pt\").input_ids.to(device)\n",
    "        outputs = model.generate(input_ids, max_length=50)\n",
    "        return tokenizer.decode(outputs[0], skip_special_tokens=True)\n",
    "    except Exception as e:\n",
    "        print(f\"Error generating features for text: {str(e)}\")\n",
    "        return \"\"\n",
    "\n",
    "# Generate embeddings with progress tracking\n"
   ]
  },
  {
   "cell_type": "code",
   "execution_count": 18,
   "metadata": {},
   "outputs": [
    {
     "data": {
      "application/vnd.jupyter.widget-view+json": {
       "model_id": "f9d9e3850faa4df8ada181305d79c6df",
       "version_major": 2,
       "version_minor": 0
      },
      "text/plain": [
       "Loading pipeline components...:   0%|          | 0/6 [00:00<?, ?it/s]"
      ]
     },
     "metadata": {},
     "output_type": "display_data"
    },
    {
     "name": "stdout",
     "output_type": "stream",
     "text": [
      "Generating music embeddings...\n",
      "Loading AudioLDM model...\n"
     ]
    },
    {
     "data": {
      "application/vnd.jupyter.widget-view+json": {
       "model_id": "68c90f06b62c4aa980e4c1c696975b42",
       "version_major": 2,
       "version_minor": 0
      },
      "text/plain": [
       "Loading pipeline components...:   0%|          | 0/6 [00:00<?, ?it/s]"
      ]
     },
     "metadata": {},
     "output_type": "display_data"
    },
    {
     "name": "stdout",
     "output_type": "stream",
     "text": [
      "Generating music...\n"
     ]
    },
    {
     "data": {
      "application/vnd.jupyter.widget-view+json": {
       "model_id": "747535116bc94635ac60473ce257bf45",
       "version_major": 2,
       "version_minor": 0
      },
      "text/plain": [
       "  0%|          | 0/50 [00:00<?, ?it/s]"
      ]
     },
     "metadata": {},
     "output_type": "display_data"
    },
    {
     "name": "stdout",
     "output_type": "stream",
     "text": [
      "🎵 Music successfully generated and saved as 'generated_music.wav'!\n"
     ]
    }
   ],
   "source": [
    "repo_id = \"cvssp/audioldm-s-full-v2\"\n",
    "pipe = AudioLDMPipeline.from_pretrained(repo_id, torch_dtype=torch.float16)\n",
    "pipe = pipe.to(device)\n",
    "\n",
    "\n",
    "print(\"Generating music embeddings...\")\n",
    "music_embeddings = []\n",
    "for text in retrieved_texts:\n",
    "    embedding = generate_music_features(text, tokenizer, model)\n",
    "    if embedding:\n",
    "        music_embeddings.append(embedding)\n",
    "\n",
    "# Extract features using TF-IDF\n",
    "\n",
    "if music_embeddings:\n",
    "    vectorizer = TfidfVectorizer()\n",
    "    music_features = vectorizer.fit_transform(music_embeddings).toarray()\n",
    "    music_tensor = torch.tensor(music_features, dtype=torch.float32).to(device)\n",
    "\n",
    "    try:\n",
    "        # Load AudioLDM model\n",
    "        print(\"Loading AudioLDM model...\")\n",
    "        audio_ldm = AudioLDMPipeline.from_pretrained(\"cvssp/audioldm-s-full-v2\")\n",
    "        audio_ldm.to(device)\n",
    "\n",
    "        # Generate music\n",
    "        \n",
    "        print(\"Generating music...\")\n",
    "        generated_output = audio_ldm(\n",
    "            prompt=retrieved_texts[0],\n",
    "            num_inference_steps=50,\n",
    "            audio_length_in_s=15.0\n",
    "        )\n",
    "\n",
    "        # Save the generated audio\n",
    "        generated_music = generated_output.audios[0]\n",
    "        \n",
    "        try:\n",
    "            waveform = torch.tensor(generated_music).unsqueeze(0)\n",
    "            torchaudio.save(\"generated_music.wav\", waveform, 16000)\n",
    "            print(\"🎵 Music successfully generated and saved as 'generated_music.wav'!\")\n",
    "        except Exception as e:\n",
    "            print(f\"Error saving audio file: {str(e)}\")\n",
    "    \n",
    "    except Exception as e:\n",
    "        print(f\"Error in music generation: {str(e)}\")\n",
    "else:\n",
    "    print(\"No valid embeddings generated. Cannot proceed with music generation.\")"
   ]
  }
 ],
 "metadata": {
  "kernelspec": {
   "display_name": "Python 3",
   "language": "python",
   "name": "python3"
  },
  "language_info": {
   "codemirror_mode": {
    "name": "ipython",
    "version": 3
   },
   "file_extension": ".py",
   "mimetype": "text/x-python",
   "name": "python",
   "nbconvert_exporter": "python",
   "pygments_lexer": "ipython3",
   "version": "3.12.0"
  }
 },
 "nbformat": 4,
 "nbformat_minor": 2
}
