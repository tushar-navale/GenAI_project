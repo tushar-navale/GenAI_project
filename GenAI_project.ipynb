{
  "nbformat": 4,
  "nbformat_minor": 0,
  "metadata": {
    "colab": {
      "provenance": [],
      "authorship_tag": "ABX9TyPShF0OnupORmVZJQMZZFDz",
      "include_colab_link": true
    },
    "kernelspec": {
      "name": "python3",
      "display_name": "Python 3"
    },
    "language_info": {
      "name": "python"
    }
  },
  "cells": [
    {
      "cell_type": "markdown",
      "metadata": {
        "id": "view-in-github",
        "colab_type": "text"
      },
      "source": [
        "<a href=\"https://colab.research.google.com/github/tushar-navale/GenAI_project/blob/main/GenAI_project.ipynb\" target=\"_parent\"><img src=\"https://colab.research.google.com/assets/colab-badge.svg\" alt=\"Open In Colab\"/></a>"
      ]
    },
    {
      "cell_type": "code",
      "execution_count": null,
      "metadata": {
        "id": "Cv9zmcYAsD63"
      },
      "outputs": [],
      "source": [
        "from datasets import load_dataset\n",
        "from rank_bm25 import BM25Okapi\n",
        "import torch\n",
        "import torchaudio\n",
        "import torchaudio.transforms as transforms\n",
        "import numpy as np\n",
        "from transformers import T5Tokenizer, T5ForConditionalGeneration\n",
        "from diffusers import UNet2DConditionModel, DDPMScheduler\n",
        "from google.colab import files"
      ]
    }
  ]
}